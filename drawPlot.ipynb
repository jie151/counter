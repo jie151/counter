{
 "cells": [
  {
   "cell_type": "code",
   "execution_count": 20,
   "metadata": {},
   "outputs": [
    {
     "name": "stdout",
     "output_type": "stream",
     "text": [
      "data size: 1571080\n",
      "1    1138930\n",
      "2     400835\n",
      "3      30935\n",
      "4        267\n",
      "5         81\n",
      "6         26\n",
      "7          4\n",
      "8          1\n",
      "9          1\n",
      "Name: update_count, dtype: int64\n"
     ]
    }
   ],
   "source": [
    "import matplotlib.pyplot as plt\n",
    "import seaborn as sns\n",
    "import pandas as pd\n",
    "import numpy as np\n",
    "\n",
    "def drawplot(filename, picName):\n",
    "    data = pd.read_csv(filename)\n",
    "    \n",
    "    print(f\"data size: {len(data)}\")\n",
    "    sizes = data['update_count'].value_counts().tolist()\n",
    "    labels = data['update_count'].value_counts().index.tolist()\n",
    "    print(data['update_count'].value_counts())\n",
    "    \n",
    "    separeted = [0.05]*(len(sizes))\n",
    "    plt.pie(sizes, autopct='%1.1f%%', explode=separeted, pctdistance=0.65, textprops={\"fontsize\":8})#, shadow=True)\n",
    "    labels = [f'{l} ({s})' for l, s in zip(labels, sizes)]\n",
    "    plt.legend(bbox_to_anchor=(0.85, 1), loc='upper left', labels=labels)\n",
    "    plt.axis('equal')\n",
    "    plt.savefig(\"crawler_frequency.png\", bbox_inches='tight', dpi=300)\n",
    "    plt.close()\n",
    "drawplot(\"2022-05-17.csv\", \"test.png\")"
   ]
  },
  {
   "cell_type": "code",
   "execution_count": null,
   "metadata": {},
   "outputs": [],
   "source": []
  }
 ],
 "metadata": {
  "interpreter": {
   "hash": "01758a1b9395712885eb5ceafbf57c534be762737223bdb93ff5ddbaa77a4fde"
  },
  "kernelspec": {
   "display_name": "Python 3.8.8 ('base')",
   "language": "python",
   "name": "python3"
  },
  "language_info": {
   "codemirror_mode": {
    "name": "ipython",
    "version": 3
   },
   "file_extension": ".py",
   "mimetype": "text/x-python",
   "name": "python",
   "nbconvert_exporter": "python",
   "pygments_lexer": "ipython3",
   "version": "3.8.8"
  },
  "orig_nbformat": 4
 },
 "nbformat": 4,
 "nbformat_minor": 2
}
